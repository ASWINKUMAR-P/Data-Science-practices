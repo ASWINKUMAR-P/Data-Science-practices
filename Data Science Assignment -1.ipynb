{
 "cells": [
  {
   "cell_type": "markdown",
   "id": "a70db3a2",
   "metadata": {},
   "source": [
    "Let us assume that a dataset consist of 5 columns namely rollno name dept mark and location. Write the code for the following funtion,\n",
    "1) display first 5 and last 5 rows\n",
    "2) display the information of rollno cloumn\n",
    "3) change the column name rollno as registerno\n",
    "4) delete the column location\n",
    "5) display the mark greater than 80 and less than 95\n",
    "6) display the marks in ascending order \n",
    "7) insert new column as gpa\n",
    "8) find the sum of null values\n",
    "9) find the sum of marks\n",
    "10) create subset for 1st three column\n",
    "11) visulize the student mark using line chart \n",
    "12) dispaly the name and mark info using bar chart\n",
    "13) apply stacked bar chart for anyone column and locate \n",
    "14) draw the scatter plot for any two column \n",
    "15) display the x-axis and y-axis label\n",
    "16) display the area chart for any two columns\n",
    "17) find the max and min mark from the dataset\n",
    "18) find mean for marks\n",
    "\n"
   ]
  },
  {
   "cell_type": "code",
   "execution_count": 3,
   "id": "d352c086",
   "metadata": {},
   "outputs": [],
   "source": [
    "import pandas as pd\n",
    "import numpy as np\n",
    "import matplotlib.pyplot as plt\n",
    "import seaborn as sns"
   ]
  },
  {
   "cell_type": "code",
   "execution_count": 5,
   "id": "4f38ac6d",
   "metadata": {},
   "outputs": [],
   "source": [
    "df=pd.DataFrame(\n",
    "    {\n",
    "        'rollno':[2001,2002,2003,2004,2005,2006],\n",
    "        'Name': ['Aswin','Chiru','Bharath','Binlet','Charan','Hemanth'],\n",
    "        'dept':['CSE','CSBS','IT','ADS','EEE','ECE'],\n",
    "        'marks':[99,98,100,95,92,93],\n",
    "        'location':['chennai','chennai','chennai','chennai','chennai','chennai']\n",
    "    }\n",
    ")"
   ]
  },
  {
   "cell_type": "code",
   "execution_count": 6,
   "id": "f0910db0",
   "metadata": {},
   "outputs": [
    {
     "data": {
      "text/html": [
       "<div>\n",
       "<style scoped>\n",
       "    .dataframe tbody tr th:only-of-type {\n",
       "        vertical-align: middle;\n",
       "    }\n",
       "\n",
       "    .dataframe tbody tr th {\n",
       "        vertical-align: top;\n",
       "    }\n",
       "\n",
       "    .dataframe thead th {\n",
       "        text-align: right;\n",
       "    }\n",
       "</style>\n",
       "<table border=\"1\" class=\"dataframe\">\n",
       "  <thead>\n",
       "    <tr style=\"text-align: right;\">\n",
       "      <th></th>\n",
       "      <th>rollno</th>\n",
       "      <th>Name</th>\n",
       "      <th>dept</th>\n",
       "      <th>marks</th>\n",
       "      <th>location</th>\n",
       "    </tr>\n",
       "  </thead>\n",
       "  <tbody>\n",
       "    <tr>\n",
       "      <th>0</th>\n",
       "      <td>2001</td>\n",
       "      <td>Aswin</td>\n",
       "      <td>CSE</td>\n",
       "      <td>99</td>\n",
       "      <td>chennai</td>\n",
       "    </tr>\n",
       "    <tr>\n",
       "      <th>1</th>\n",
       "      <td>2002</td>\n",
       "      <td>Chiru</td>\n",
       "      <td>CSBS</td>\n",
       "      <td>98</td>\n",
       "      <td>chennai</td>\n",
       "    </tr>\n",
       "    <tr>\n",
       "      <th>2</th>\n",
       "      <td>2003</td>\n",
       "      <td>Bharath</td>\n",
       "      <td>IT</td>\n",
       "      <td>100</td>\n",
       "      <td>chennai</td>\n",
       "    </tr>\n",
       "    <tr>\n",
       "      <th>3</th>\n",
       "      <td>2004</td>\n",
       "      <td>Binlet</td>\n",
       "      <td>ADS</td>\n",
       "      <td>95</td>\n",
       "      <td>chennai</td>\n",
       "    </tr>\n",
       "    <tr>\n",
       "      <th>4</th>\n",
       "      <td>2005</td>\n",
       "      <td>Charan</td>\n",
       "      <td>EEE</td>\n",
       "      <td>92</td>\n",
       "      <td>chennai</td>\n",
       "    </tr>\n",
       "  </tbody>\n",
       "</table>\n",
       "</div>"
      ],
      "text/plain": [
       "   rollno     Name  dept  marks location\n",
       "0    2001    Aswin   CSE     99  chennai\n",
       "1    2002    Chiru  CSBS     98  chennai\n",
       "2    2003  Bharath    IT    100  chennai\n",
       "3    2004   Binlet   ADS     95  chennai\n",
       "4    2005   Charan   EEE     92  chennai"
      ]
     },
     "execution_count": 6,
     "metadata": {},
     "output_type": "execute_result"
    }
   ],
   "source": [
    "df.head()"
   ]
  },
  {
   "cell_type": "code",
   "execution_count": 7,
   "id": "6db9f774",
   "metadata": {},
   "outputs": [
    {
     "data": {
      "text/html": [
       "<div>\n",
       "<style scoped>\n",
       "    .dataframe tbody tr th:only-of-type {\n",
       "        vertical-align: middle;\n",
       "    }\n",
       "\n",
       "    .dataframe tbody tr th {\n",
       "        vertical-align: top;\n",
       "    }\n",
       "\n",
       "    .dataframe thead th {\n",
       "        text-align: right;\n",
       "    }\n",
       "</style>\n",
       "<table border=\"1\" class=\"dataframe\">\n",
       "  <thead>\n",
       "    <tr style=\"text-align: right;\">\n",
       "      <th></th>\n",
       "      <th>rollno</th>\n",
       "      <th>Name</th>\n",
       "      <th>dept</th>\n",
       "      <th>marks</th>\n",
       "      <th>location</th>\n",
       "    </tr>\n",
       "  </thead>\n",
       "  <tbody>\n",
       "    <tr>\n",
       "      <th>1</th>\n",
       "      <td>2002</td>\n",
       "      <td>Chiru</td>\n",
       "      <td>CSBS</td>\n",
       "      <td>98</td>\n",
       "      <td>chennai</td>\n",
       "    </tr>\n",
       "    <tr>\n",
       "      <th>2</th>\n",
       "      <td>2003</td>\n",
       "      <td>Bharath</td>\n",
       "      <td>IT</td>\n",
       "      <td>100</td>\n",
       "      <td>chennai</td>\n",
       "    </tr>\n",
       "    <tr>\n",
       "      <th>3</th>\n",
       "      <td>2004</td>\n",
       "      <td>Binlet</td>\n",
       "      <td>ADS</td>\n",
       "      <td>95</td>\n",
       "      <td>chennai</td>\n",
       "    </tr>\n",
       "    <tr>\n",
       "      <th>4</th>\n",
       "      <td>2005</td>\n",
       "      <td>Charan</td>\n",
       "      <td>EEE</td>\n",
       "      <td>92</td>\n",
       "      <td>chennai</td>\n",
       "    </tr>\n",
       "    <tr>\n",
       "      <th>5</th>\n",
       "      <td>2006</td>\n",
       "      <td>Hemanth</td>\n",
       "      <td>ECE</td>\n",
       "      <td>93</td>\n",
       "      <td>chennai</td>\n",
       "    </tr>\n",
       "  </tbody>\n",
       "</table>\n",
       "</div>"
      ],
      "text/plain": [
       "   rollno     Name  dept  marks location\n",
       "1    2002    Chiru  CSBS     98  chennai\n",
       "2    2003  Bharath    IT    100  chennai\n",
       "3    2004   Binlet   ADS     95  chennai\n",
       "4    2005   Charan   EEE     92  chennai\n",
       "5    2006  Hemanth   ECE     93  chennai"
      ]
     },
     "execution_count": 7,
     "metadata": {},
     "output_type": "execute_result"
    }
   ],
   "source": [
    "df.tail()"
   ]
  },
  {
   "cell_type": "code",
   "execution_count": 8,
   "id": "10e6dd33",
   "metadata": {},
   "outputs": [
    {
     "data": {
      "text/html": [
       "<div>\n",
       "<style scoped>\n",
       "    .dataframe tbody tr th:only-of-type {\n",
       "        vertical-align: middle;\n",
       "    }\n",
       "\n",
       "    .dataframe tbody tr th {\n",
       "        vertical-align: top;\n",
       "    }\n",
       "\n",
       "    .dataframe thead th {\n",
       "        text-align: right;\n",
       "    }\n",
       "</style>\n",
       "<table border=\"1\" class=\"dataframe\">\n",
       "  <thead>\n",
       "    <tr style=\"text-align: right;\">\n",
       "      <th></th>\n",
       "      <th>registernumber</th>\n",
       "      <th>Name</th>\n",
       "      <th>dept</th>\n",
       "      <th>marks</th>\n",
       "      <th>location</th>\n",
       "    </tr>\n",
       "  </thead>\n",
       "  <tbody>\n",
       "    <tr>\n",
       "      <th>0</th>\n",
       "      <td>2001</td>\n",
       "      <td>Aswin</td>\n",
       "      <td>CSE</td>\n",
       "      <td>99</td>\n",
       "      <td>chennai</td>\n",
       "    </tr>\n",
       "    <tr>\n",
       "      <th>1</th>\n",
       "      <td>2002</td>\n",
       "      <td>Chiru</td>\n",
       "      <td>CSBS</td>\n",
       "      <td>98</td>\n",
       "      <td>chennai</td>\n",
       "    </tr>\n",
       "    <tr>\n",
       "      <th>2</th>\n",
       "      <td>2003</td>\n",
       "      <td>Bharath</td>\n",
       "      <td>IT</td>\n",
       "      <td>100</td>\n",
       "      <td>chennai</td>\n",
       "    </tr>\n",
       "    <tr>\n",
       "      <th>3</th>\n",
       "      <td>2004</td>\n",
       "      <td>Binlet</td>\n",
       "      <td>ADS</td>\n",
       "      <td>95</td>\n",
       "      <td>chennai</td>\n",
       "    </tr>\n",
       "    <tr>\n",
       "      <th>4</th>\n",
       "      <td>2005</td>\n",
       "      <td>Charan</td>\n",
       "      <td>EEE</td>\n",
       "      <td>92</td>\n",
       "      <td>chennai</td>\n",
       "    </tr>\n",
       "    <tr>\n",
       "      <th>5</th>\n",
       "      <td>2006</td>\n",
       "      <td>Hemanth</td>\n",
       "      <td>ECE</td>\n",
       "      <td>93</td>\n",
       "      <td>chennai</td>\n",
       "    </tr>\n",
       "  </tbody>\n",
       "</table>\n",
       "</div>"
      ],
      "text/plain": [
       "   registernumber     Name  dept  marks location\n",
       "0            2001    Aswin   CSE     99  chennai\n",
       "1            2002    Chiru  CSBS     98  chennai\n",
       "2            2003  Bharath    IT    100  chennai\n",
       "3            2004   Binlet   ADS     95  chennai\n",
       "4            2005   Charan   EEE     92  chennai\n",
       "5            2006  Hemanth   ECE     93  chennai"
      ]
     },
     "execution_count": 8,
     "metadata": {},
     "output_type": "execute_result"
    }
   ],
   "source": [
    "df.rename(columns={\"rollno\":\"registernumber\"})"
   ]
  },
  {
   "cell_type": "code",
   "execution_count": 9,
   "id": "f5df2a46",
   "metadata": {},
   "outputs": [],
   "source": [
    "df.drop(columns='location',inplace=True)"
   ]
  },
  {
   "cell_type": "code",
   "execution_count": 10,
   "id": "4e3848c3",
   "metadata": {},
   "outputs": [
    {
     "data": {
      "text/html": [
       "<div>\n",
       "<style scoped>\n",
       "    .dataframe tbody tr th:only-of-type {\n",
       "        vertical-align: middle;\n",
       "    }\n",
       "\n",
       "    .dataframe tbody tr th {\n",
       "        vertical-align: top;\n",
       "    }\n",
       "\n",
       "    .dataframe thead th {\n",
       "        text-align: right;\n",
       "    }\n",
       "</style>\n",
       "<table border=\"1\" class=\"dataframe\">\n",
       "  <thead>\n",
       "    <tr style=\"text-align: right;\">\n",
       "      <th></th>\n",
       "      <th>rollno</th>\n",
       "      <th>Name</th>\n",
       "      <th>dept</th>\n",
       "      <th>marks</th>\n",
       "    </tr>\n",
       "  </thead>\n",
       "  <tbody>\n",
       "    <tr>\n",
       "      <th>4</th>\n",
       "      <td>2005</td>\n",
       "      <td>Charan</td>\n",
       "      <td>EEE</td>\n",
       "      <td>92</td>\n",
       "    </tr>\n",
       "    <tr>\n",
       "      <th>5</th>\n",
       "      <td>2006</td>\n",
       "      <td>Hemanth</td>\n",
       "      <td>ECE</td>\n",
       "      <td>93</td>\n",
       "    </tr>\n",
       "  </tbody>\n",
       "</table>\n",
       "</div>"
      ],
      "text/plain": [
       "   rollno     Name dept  marks\n",
       "4    2005   Charan  EEE     92\n",
       "5    2006  Hemanth  ECE     93"
      ]
     },
     "execution_count": 10,
     "metadata": {},
     "output_type": "execute_result"
    }
   ],
   "source": [
    "df[((df['marks']>80) & (df['marks']<95))]"
   ]
  },
  {
   "cell_type": "code",
   "execution_count": 11,
   "id": "c84c3bba",
   "metadata": {},
   "outputs": [
    {
     "data": {
      "text/html": [
       "<div>\n",
       "<style scoped>\n",
       "    .dataframe tbody tr th:only-of-type {\n",
       "        vertical-align: middle;\n",
       "    }\n",
       "\n",
       "    .dataframe tbody tr th {\n",
       "        vertical-align: top;\n",
       "    }\n",
       "\n",
       "    .dataframe thead th {\n",
       "        text-align: right;\n",
       "    }\n",
       "</style>\n",
       "<table border=\"1\" class=\"dataframe\">\n",
       "  <thead>\n",
       "    <tr style=\"text-align: right;\">\n",
       "      <th></th>\n",
       "      <th>rollno</th>\n",
       "      <th>Name</th>\n",
       "      <th>dept</th>\n",
       "      <th>marks</th>\n",
       "    </tr>\n",
       "  </thead>\n",
       "  <tbody>\n",
       "    <tr>\n",
       "      <th>4</th>\n",
       "      <td>2005</td>\n",
       "      <td>Charan</td>\n",
       "      <td>EEE</td>\n",
       "      <td>92</td>\n",
       "    </tr>\n",
       "    <tr>\n",
       "      <th>5</th>\n",
       "      <td>2006</td>\n",
       "      <td>Hemanth</td>\n",
       "      <td>ECE</td>\n",
       "      <td>93</td>\n",
       "    </tr>\n",
       "    <tr>\n",
       "      <th>3</th>\n",
       "      <td>2004</td>\n",
       "      <td>Binlet</td>\n",
       "      <td>ADS</td>\n",
       "      <td>95</td>\n",
       "    </tr>\n",
       "    <tr>\n",
       "      <th>1</th>\n",
       "      <td>2002</td>\n",
       "      <td>Chiru</td>\n",
       "      <td>CSBS</td>\n",
       "      <td>98</td>\n",
       "    </tr>\n",
       "    <tr>\n",
       "      <th>0</th>\n",
       "      <td>2001</td>\n",
       "      <td>Aswin</td>\n",
       "      <td>CSE</td>\n",
       "      <td>99</td>\n",
       "    </tr>\n",
       "    <tr>\n",
       "      <th>2</th>\n",
       "      <td>2003</td>\n",
       "      <td>Bharath</td>\n",
       "      <td>IT</td>\n",
       "      <td>100</td>\n",
       "    </tr>\n",
       "  </tbody>\n",
       "</table>\n",
       "</div>"
      ],
      "text/plain": [
       "   rollno     Name  dept  marks\n",
       "4    2005   Charan   EEE     92\n",
       "5    2006  Hemanth   ECE     93\n",
       "3    2004   Binlet   ADS     95\n",
       "1    2002    Chiru  CSBS     98\n",
       "0    2001    Aswin   CSE     99\n",
       "2    2003  Bharath    IT    100"
      ]
     },
     "execution_count": 11,
     "metadata": {},
     "output_type": "execute_result"
    }
   ],
   "source": [
    "df.sort_values(by=['marks'])"
   ]
  },
  {
   "cell_type": "code",
   "execution_count": 13,
   "id": "0fed6fd8",
   "metadata": {},
   "outputs": [],
   "source": [
    "df['GPA']=[9.99,9.98,10.0,9.97,9.96,9.97]"
   ]
  },
  {
   "cell_type": "code",
   "execution_count": 14,
   "id": "12e5eef0",
   "metadata": {},
   "outputs": [
    {
     "data": {
      "text/plain": [
       "rollno    0\n",
       "Name      0\n",
       "dept      0\n",
       "marks     0\n",
       "GPA       0\n",
       "dtype: int64"
      ]
     },
     "execution_count": 14,
     "metadata": {},
     "output_type": "execute_result"
    }
   ],
   "source": [
    "df.isna().sum()"
   ]
  },
  {
   "cell_type": "code",
   "execution_count": 19,
   "id": "8aa809c7",
   "metadata": {},
   "outputs": [
    {
     "data": {
      "text/plain": [
       "577"
      ]
     },
     "execution_count": 19,
     "metadata": {},
     "output_type": "execute_result"
    }
   ],
   "source": [
    "df['marks'].sum()"
   ]
  },
  {
   "cell_type": "code",
   "execution_count": 20,
   "id": "1d4a46c1",
   "metadata": {},
   "outputs": [
    {
     "data": {
      "text/plain": [
       "96.16666666666667"
      ]
     },
     "execution_count": 20,
     "metadata": {},
     "output_type": "execute_result"
    }
   ],
   "source": [
    "df.marks.mean()"
   ]
  },
  {
   "cell_type": "code",
   "execution_count": 21,
   "id": "3a3a2f64",
   "metadata": {},
   "outputs": [
    {
     "data": {
      "text/plain": [
       "100"
      ]
     },
     "execution_count": 21,
     "metadata": {},
     "output_type": "execute_result"
    }
   ],
   "source": [
    "df.marks.max()"
   ]
  },
  {
   "cell_type": "code",
   "execution_count": 22,
   "id": "ab1f0772",
   "metadata": {},
   "outputs": [
    {
     "data": {
      "text/plain": [
       "92"
      ]
     },
     "execution_count": 22,
     "metadata": {},
     "output_type": "execute_result"
    }
   ],
   "source": [
    "df.marks.min()"
   ]
  },
  {
   "cell_type": "code",
   "execution_count": 26,
   "id": "86943a5d",
   "metadata": {},
   "outputs": [],
   "source": [
    "df1=df[['Name','rollno','dept']]"
   ]
  },
  {
   "cell_type": "code",
   "execution_count": 27,
   "id": "78ba7691",
   "metadata": {},
   "outputs": [
    {
     "data": {
      "text/plain": [
       "[<matplotlib.lines.Line2D at 0x27f2a465db0>]"
      ]
     },
     "execution_count": 27,
     "metadata": {},
     "output_type": "execute_result"
    },
    {
     "data": {
      "image/png": "[encoded data removed]",
      "text/plain": [
       "<Figure size 640x480 with 1 Axes>"
      ]
     },
     "metadata": {},
     "output_type": "display_data"
    }
   ],
   "source": [
    "plt.plot(df['Name'],df['marks'])"
   ]
  },
  {
   "cell_type": "code",
   "execution_count": 28,
   "id": "b494e0c3",
   "metadata": {},
   "outputs": [
    {
     "data": {
      "text/plain": [
       "<BarContainer object of 6 artists>"
      ]
     },
     "execution_count": 28,
     "metadata": {},
     "output_type": "execute_result"
    },
    {
     "data": {
      "image/png": "[encoded data removed]",
      "text/plain": [
       "<Figure size 640x480 with 1 Axes>"
      ]
     },
     "metadata": {},
     "output_type": "display_data"
    }
   ],
   "source": [
    "plt.title('Student-mark')\n",
    "plt.xlabel('Name')\n",
    "plt.ylabel('Marks')\n",
    "x=df['Name']\n",
    "y=df['marks']\n",
    "plt.bar(x,y)\n"
   ]
  },
  {
   "cell_type": "code",
   "execution_count": 30,
   "id": "b6485b34",
   "metadata": {},
   "outputs": [
    {
     "data": {
      "text/plain": [
       "<AxesSubplot: title={'center': 'Student details'}, xlabel='Name'>"
      ]
     },
     "execution_count": 30,
     "metadata": {},
     "output_type": "execute_result"
    },
    {
     "data": {
      "image/png": "[encoded data removed]",
      "text/plain": [
       "<Figure size 640x480 with 1 Axes>"
      ]
     },
     "metadata": {},
     "output_type": "display_data"
    }
   ],
   "source": [
    "df.plot(x='Name', kind='bar', stacked=True,\n",
    "        title='Student details')"
   ]
  },
  {
   "cell_type": "code",
   "execution_count": 37,
   "id": "2e1ae3b9",
   "metadata": {},
   "outputs": [
    {
     "data": {
      "text/plain": [
       "<AxesSubplot: xlabel='Name', ylabel='marks'>"
      ]
     },
     "execution_count": 37,
     "metadata": {},
     "output_type": "execute_result"
    },
    {
     "data": {
      "image/png": "[encoded data removed]",
      "text/plain": [
       "<Figure size 640x480 with 1 Axes>"
      ]
     },
     "metadata": {},
     "output_type": "display_data"
    }
   ],
   "source": [
    "df.plot.scatter(x='Name',y='marks')"
   ]
  },
  {
   "cell_type": "code",
   "execution_count": null,
   "id": "ba8ff926",
   "metadata": {},
   "outputs": [],
   "source": []
  }
 ],
 "metadata": {
  "kernelspec": {
   "display_name": "Python 3 (ipykernel)",
   "language": "python",
   "name": "python3"
  },
  "language_info": {
   "codemirror_mode": {
    "name": "ipython",
    "version": 3
   },
   "file_extension": ".py",
   "mimetype": "text/x-python",
   "name": "python",
   "nbconvert_exporter": "python",
   "pygments_lexer": "ipython3",
   "version": "3.10.5"
  }
 },
 "nbformat": 4,
 "nbformat_minor": 5
}
